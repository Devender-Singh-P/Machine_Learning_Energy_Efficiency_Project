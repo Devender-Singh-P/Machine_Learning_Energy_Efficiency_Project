{
 "cells": [
  {
   "cell_type": "code",
   "execution_count": 2,
   "metadata": {},
   "outputs": [],
   "source": [
    "from energy_efficiency.entity import energy_efficiency_predictor"
   ]
  },
  {
   "cell_type": "code",
   "execution_count": 3,
   "metadata": {},
   "outputs": [],
   "source": [
    "energy_efficiency_Data=energy_efficiency_predictor.energy_efficiencyData(0.98,514.50,294.00,110.25,7.00,2,0.00,0,21.33)"
   ]
  },
  {
   "cell_type": "code",
   "execution_count": 4,
   "metadata": {},
   "outputs": [
    {
     "data": {
      "text/plain": [
       "{'relative_compactness': [0.98],\n",
       " 'surface_area': [514.5],\n",
       " 'wall_area': [294.0],\n",
       " 'roof_area': [110.25],\n",
       " 'overall_height': [7.0],\n",
       " 'orientation': [2],\n",
       " 'glazing_area': [0.0],\n",
       " 'glazing_area_distribution': [0],\n",
       " 'cooling_load': [21.33]}"
      ]
     },
     "execution_count": 4,
     "metadata": {},
     "output_type": "execute_result"
    }
   ],
   "source": [
    "energy_efficiency_Data.get_energy_efficiency_data_as_dict()"
   ]
  },
  {
   "cell_type": "code",
   "execution_count": 5,
   "metadata": {},
   "outputs": [],
   "source": [
    "df=energy_efficiency_Data.get_energy_efficiency_input_data_frame()"
   ]
  },
  {
   "cell_type": "code",
   "execution_count": 6,
   "metadata": {},
   "outputs": [],
   "source": [
    "from energy_efficiency.entity.energy_efficiency_predictor import energy_efficiencyPredictor"
   ]
  },
  {
   "cell_type": "code",
   "execution_count": 8,
   "metadata": {},
   "outputs": [],
   "source": [
    "model_path=\"/media/devender/Samsung_980/Machine_Learning_Energy_Efficiency_Project/saved_models\"\n",
    "energy_efficiency_predictor= energy_efficiencyPredictor(model_dir=model_path)"
   ]
  },
  {
   "cell_type": "code",
   "execution_count": 9,
   "metadata": {},
   "outputs": [
    {
     "data": {
      "text/plain": [
       "'/media/devender/Samsung_980/Machine_Learning_Energy_Efficiency_Project/saved_models'"
      ]
     },
     "execution_count": 9,
     "metadata": {},
     "output_type": "execute_result"
    }
   ],
   "source": [
    "energy_efficiency_predictor.model_dir"
   ]
  },
  {
   "cell_type": "code",
   "execution_count": 10,
   "metadata": {},
   "outputs": [
    {
     "data": {
      "text/plain": [
       "'/media/devender/Samsung_980/Machine_Learning_Energy_Efficiency_Project/saved_models/20221101192659/model.pkl'"
      ]
     },
     "execution_count": 10,
     "metadata": {},
     "output_type": "execute_result"
    }
   ],
   "source": [
    "energy_efficiency_predictor.get_latest_model_path()"
   ]
  },
  {
   "cell_type": "code",
   "execution_count": 11,
   "metadata": {},
   "outputs": [
    {
     "data": {
      "text/plain": [
       "array([16.57863995])"
      ]
     },
     "execution_count": 11,
     "metadata": {},
     "output_type": "execute_result"
    }
   ],
   "source": [
    "energy_efficiency_predictor.predict(df)"
   ]
  },
  {
   "cell_type": "code",
   "execution_count": null,
   "metadata": {},
   "outputs": [],
   "source": []
  }
 ],
 "metadata": {
  "kernelspec": {
   "display_name": "Python 3.7.13 (conda)",
   "language": "python",
   "name": "python3"
  },
  "language_info": {
   "codemirror_mode": {
    "name": "ipython",
    "version": 3
   },
   "file_extension": ".py",
   "mimetype": "text/x-python",
   "name": "python",
   "nbconvert_exporter": "python",
   "pygments_lexer": "ipython3",
   "version": "3.7.13"
  },
  "orig_nbformat": 4,
  "vscode": {
   "interpreter": {
    "hash": "9d72d7e637601da8b952a2745d1fc3aeaf7bedfcb0d07a57a8048244865ed59a"
   }
  }
 },
 "nbformat": 4,
 "nbformat_minor": 2
}
