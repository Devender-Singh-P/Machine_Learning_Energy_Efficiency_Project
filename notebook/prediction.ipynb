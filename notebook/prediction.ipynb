{
 "cells": [
  {
   "cell_type": "code",
   "execution_count": 33,
   "metadata": {},
   "outputs": [],
   "source": [
    "from energy_efficiency.entity import energy_efficiency_predictor"
   ]
  },
  {
   "cell_type": "code",
   "execution_count": 34,
   "metadata": {},
   "outputs": [],
   "source": [
    "energy_efficiency_Data=energy_efficiency_predictor.energy_efficiencyData(0.98,514.50,294.00,110.25,7.00,2,0.00,0,21.33)"
   ]
  },
  {
   "cell_type": "code",
   "execution_count": 35,
   "metadata": {},
   "outputs": [
    {
     "data": {
      "text/plain": [
       "{'relative_compactness': [0.98],\n",
       " 'surface_area': [514.5],\n",
       " 'wall_area': [294.0],\n",
       " 'roof_area': [110.25],\n",
       " 'overall_height': [7.0],\n",
       " 'orientation': [2],\n",
       " 'glazing_area': [0.0],\n",
       " 'glazing_area_distribution': [0],\n",
       " 'cooling_load': [21.33]}"
      ]
     },
     "execution_count": 35,
     "metadata": {},
     "output_type": "execute_result"
    }
   ],
   "source": [
    "energy_efficiency_Data.get_energy_efficiency_data_as_dict()"
   ]
  },
  {
   "cell_type": "code",
   "execution_count": 36,
   "metadata": {},
   "outputs": [],
   "source": [
    "df=energy_efficiency_Data.get_energy_efficiency_input_data_frame()"
   ]
  },
  {
   "cell_type": "code",
   "execution_count": 37,
   "metadata": {},
   "outputs": [],
   "source": [
    "from energy_efficiency.entity.energy_efficiency_predictor import energy_efficiencyPredictor"
   ]
  },
  {
   "cell_type": "code",
   "execution_count": 38,
   "metadata": {},
   "outputs": [],
   "source": [
    "model_path=\"/media/devender/Samsung_980/Machine_Learning_Energy_Efficiency_Project/saved_models/20221101183256/model.pkl\"\n",
    "energy_efficiency_predictor= energy_efficiencyPredictor(model_dir=model_path)"
   ]
  },
  {
   "cell_type": "code",
   "execution_count": 32,
   "metadata": {},
   "outputs": [
    {
     "data": {
      "text/plain": [
       "'/media/devender/Samsung_980/Machine_Learning_Energy_Efficiency_Project/saved_models/20221101183256/model.pkl'"
      ]
     },
     "execution_count": 32,
     "metadata": {},
     "output_type": "execute_result"
    }
   ],
   "source": [
    "energy_efficiency_predictor.model_dir"
   ]
  },
  {
   "cell_type": "code",
   "execution_count": 39,
   "metadata": {},
   "outputs": [
    {
     "ename": "energy_efficiencyException",
     "evalue": "\n        Error occured in script: \n        [ /media/devender/Samsung_980/Machine_Learning_Energy_Efficiency_Project/energy_efficiency/entity/energy_efficiency_predictor.py ] at \n        try block line number: [75] and exception block line number: [81] \n        error message: [[Errno 20] Not a directory: '/media/devender/Samsung_980/Machine_Learning_Energy_Efficiency_Project/saved_models/20221101183256/model.pkl']\n        ",
     "output_type": "error",
     "traceback": [
      "\u001b[0;31m---------------------------------------------------------------------------\u001b[0m",
      "\u001b[0;31mNotADirectoryError\u001b[0m                        Traceback (most recent call last)",
      "\u001b[0;32m/media/devender/Samsung_980/Machine_Learning_Energy_Efficiency_Project/energy_efficiency/entity/energy_efficiency_predictor.py\u001b[0m in \u001b[0;36mget_latest_model_path\u001b[0;34m(self)\u001b[0m\n\u001b[1;32m     74\u001b[0m         \u001b[0;32mtry\u001b[0m\u001b[0;34m:\u001b[0m\u001b[0;34m\u001b[0m\u001b[0;34m\u001b[0m\u001b[0m\n\u001b[0;32m---> 75\u001b[0;31m             \u001b[0mfolder_name\u001b[0m \u001b[0;34m=\u001b[0m \u001b[0mlist\u001b[0m\u001b[0;34m(\u001b[0m\u001b[0mmap\u001b[0m\u001b[0;34m(\u001b[0m\u001b[0mint\u001b[0m\u001b[0;34m,\u001b[0m \u001b[0mos\u001b[0m\u001b[0;34m.\u001b[0m\u001b[0mlistdir\u001b[0m\u001b[0;34m(\u001b[0m\u001b[0mself\u001b[0m\u001b[0;34m.\u001b[0m\u001b[0mmodel_dir\u001b[0m\u001b[0;34m)\u001b[0m\u001b[0;34m)\u001b[0m\u001b[0;34m)\u001b[0m\u001b[0;34m\u001b[0m\u001b[0;34m\u001b[0m\u001b[0m\n\u001b[0m\u001b[1;32m     76\u001b[0m             \u001b[0mlatest_model_dir\u001b[0m \u001b[0;34m=\u001b[0m \u001b[0mos\u001b[0m\u001b[0;34m.\u001b[0m\u001b[0mpath\u001b[0m\u001b[0;34m.\u001b[0m\u001b[0mjoin\u001b[0m\u001b[0;34m(\u001b[0m\u001b[0mself\u001b[0m\u001b[0;34m.\u001b[0m\u001b[0mmodel_dir\u001b[0m\u001b[0;34m,\u001b[0m \u001b[0;34mf\"{max(folder_name)}\"\u001b[0m\u001b[0;34m)\u001b[0m\u001b[0;34m\u001b[0m\u001b[0;34m\u001b[0m\u001b[0m\n",
      "\u001b[0;31mNotADirectoryError\u001b[0m: [Errno 20] Not a directory: '/media/devender/Samsung_980/Machine_Learning_Energy_Efficiency_Project/saved_models/20221101183256/model.pkl'",
      "\nThe above exception was the direct cause of the following exception:\n",
      "\u001b[0;31menergy_efficiencyException\u001b[0m                Traceback (most recent call last)",
      "\u001b[0;32m/tmp/ipykernel_30938/1668121809.py\u001b[0m in \u001b[0;36m<module>\u001b[0;34m\u001b[0m\n\u001b[0;32m----> 1\u001b[0;31m \u001b[0menergy_efficiency_predictor\u001b[0m\u001b[0;34m.\u001b[0m\u001b[0mget_latest_model_path\u001b[0m\u001b[0;34m(\u001b[0m\u001b[0;34m)\u001b[0m\u001b[0;34m\u001b[0m\u001b[0;34m\u001b[0m\u001b[0m\n\u001b[0m",
      "\u001b[0;32m/media/devender/Samsung_980/Machine_Learning_Energy_Efficiency_Project/energy_efficiency/entity/energy_efficiency_predictor.py\u001b[0m in \u001b[0;36mget_latest_model_path\u001b[0;34m(self)\u001b[0m\n\u001b[1;32m     79\u001b[0m             \u001b[0;32mreturn\u001b[0m \u001b[0mlatest_model_path\u001b[0m\u001b[0;34m\u001b[0m\u001b[0;34m\u001b[0m\u001b[0m\n\u001b[1;32m     80\u001b[0m         \u001b[0;32mexcept\u001b[0m \u001b[0mException\u001b[0m \u001b[0;32mas\u001b[0m \u001b[0me\u001b[0m\u001b[0;34m:\u001b[0m\u001b[0;34m\u001b[0m\u001b[0;34m\u001b[0m\u001b[0m\n\u001b[0;32m---> 81\u001b[0;31m             \u001b[0;32mraise\u001b[0m \u001b[0menergy_efficiencyException\u001b[0m\u001b[0;34m(\u001b[0m\u001b[0me\u001b[0m\u001b[0;34m,\u001b[0m \u001b[0msys\u001b[0m\u001b[0;34m)\u001b[0m \u001b[0;32mfrom\u001b[0m \u001b[0me\u001b[0m\u001b[0;34m\u001b[0m\u001b[0;34m\u001b[0m\u001b[0m\n\u001b[0m\u001b[1;32m     82\u001b[0m \u001b[0;34m\u001b[0m\u001b[0m\n\u001b[1;32m     83\u001b[0m     \u001b[0;32mdef\u001b[0m \u001b[0mpredict\u001b[0m\u001b[0;34m(\u001b[0m\u001b[0mself\u001b[0m\u001b[0;34m,\u001b[0m \u001b[0mX\u001b[0m\u001b[0;34m)\u001b[0m\u001b[0;34m:\u001b[0m\u001b[0;34m\u001b[0m\u001b[0;34m\u001b[0m\u001b[0m\n",
      "\u001b[0;31menergy_efficiencyException\u001b[0m: \n        Error occured in script: \n        [ /media/devender/Samsung_980/Machine_Learning_Energy_Efficiency_Project/energy_efficiency/entity/energy_efficiency_predictor.py ] at \n        try block line number: [75] and exception block line number: [81] \n        error message: [[Errno 20] Not a directory: '/media/devender/Samsung_980/Machine_Learning_Energy_Efficiency_Project/saved_models/20221101183256/model.pkl']\n        "
     ]
    }
   ],
   "source": [
    "energy_efficiency_predictor.get_latest_model_path()"
   ]
  },
  {
   "cell_type": "code",
   "execution_count": 17,
   "metadata": {},
   "outputs": [
    {
     "ename": "energy_efficiencyException",
     "evalue": "\n        Error occured in script: \n        [ /media/devender/Samsung_980/Machine_Learning_Energy_Efficiency_Project/energy_efficiency/entity/energy_efficiency_predictor.py ] at \n        try block line number: [85] and exception block line number: [90] \n        error message: [\n        Error occured in script: \n        [ /media/devender/Samsung_980/Machine_Learning_Energy_Efficiency_Project/energy_efficiency/entity/energy_efficiency_predictor.py ] at \n        try block line number: [77] and exception block line number: [81] \n        error message: [[Errno 2] No such file or directory: '/media/devender/Samsung_980/Machine_Learning_Energy_Efficiency_Project/saved_models/20221101183256.0']\n        ]\n        ",
     "output_type": "error",
     "traceback": [
      "\u001b[0;31m---------------------------------------------------------------------------\u001b[0m",
      "\u001b[0;31mFileNotFoundError\u001b[0m                         Traceback (most recent call last)",
      "\u001b[0;32m/media/devender/Samsung_980/Machine_Learning_Energy_Efficiency_Project/energy_efficiency/entity/energy_efficiency_predictor.py\u001b[0m in \u001b[0;36mget_latest_model_path\u001b[0;34m(self)\u001b[0m\n\u001b[1;32m     76\u001b[0m             \u001b[0mlatest_model_dir\u001b[0m \u001b[0;34m=\u001b[0m \u001b[0mos\u001b[0m\u001b[0;34m.\u001b[0m\u001b[0mpath\u001b[0m\u001b[0;34m.\u001b[0m\u001b[0mjoin\u001b[0m\u001b[0;34m(\u001b[0m\u001b[0mself\u001b[0m\u001b[0;34m.\u001b[0m\u001b[0mmodel_dir\u001b[0m\u001b[0;34m,\u001b[0m \u001b[0;34mf\"{max(folder_name)}\"\u001b[0m\u001b[0;34m)\u001b[0m\u001b[0;34m\u001b[0m\u001b[0;34m\u001b[0m\u001b[0m\n\u001b[0;32m---> 77\u001b[0;31m             \u001b[0mfile_name\u001b[0m \u001b[0;34m=\u001b[0m \u001b[0mos\u001b[0m\u001b[0;34m.\u001b[0m\u001b[0mlistdir\u001b[0m\u001b[0;34m(\u001b[0m\u001b[0mlatest_model_dir\u001b[0m\u001b[0;34m)\u001b[0m\u001b[0;34m[\u001b[0m\u001b[0;36m0\u001b[0m\u001b[0;34m]\u001b[0m\u001b[0;34m\u001b[0m\u001b[0;34m\u001b[0m\u001b[0m\n\u001b[0m\u001b[1;32m     78\u001b[0m             \u001b[0mlatest_model_path\u001b[0m \u001b[0;34m=\u001b[0m \u001b[0mos\u001b[0m\u001b[0;34m.\u001b[0m\u001b[0mpath\u001b[0m\u001b[0;34m.\u001b[0m\u001b[0mjoin\u001b[0m\u001b[0;34m(\u001b[0m\u001b[0mlatest_model_dir\u001b[0m\u001b[0;34m,\u001b[0m \u001b[0mfile_name\u001b[0m\u001b[0;34m)\u001b[0m\u001b[0;34m\u001b[0m\u001b[0;34m\u001b[0m\u001b[0m\n",
      "\u001b[0;31mFileNotFoundError\u001b[0m: [Errno 2] No such file or directory: '/media/devender/Samsung_980/Machine_Learning_Energy_Efficiency_Project/saved_models/20221101183256.0'",
      "\nThe above exception was the direct cause of the following exception:\n",
      "\u001b[0;31menergy_efficiencyException\u001b[0m                Traceback (most recent call last)",
      "\u001b[0;32m/media/devender/Samsung_980/Machine_Learning_Energy_Efficiency_Project/energy_efficiency/entity/energy_efficiency_predictor.py\u001b[0m in \u001b[0;36mpredict\u001b[0;34m(self, X)\u001b[0m\n\u001b[1;32m     84\u001b[0m         \u001b[0;32mtry\u001b[0m\u001b[0;34m:\u001b[0m\u001b[0;34m\u001b[0m\u001b[0;34m\u001b[0m\u001b[0m\n\u001b[0;32m---> 85\u001b[0;31m             \u001b[0mmodel_path\u001b[0m \u001b[0;34m=\u001b[0m \u001b[0mself\u001b[0m\u001b[0;34m.\u001b[0m\u001b[0mget_latest_model_path\u001b[0m\u001b[0;34m(\u001b[0m\u001b[0;34m)\u001b[0m\u001b[0;34m\u001b[0m\u001b[0;34m\u001b[0m\u001b[0m\n\u001b[0m\u001b[1;32m     86\u001b[0m             \u001b[0mmodel\u001b[0m \u001b[0;34m=\u001b[0m \u001b[0mload_object\u001b[0m\u001b[0;34m(\u001b[0m\u001b[0mfile_path\u001b[0m\u001b[0;34m=\u001b[0m\u001b[0mmodel_path\u001b[0m\u001b[0;34m)\u001b[0m\u001b[0;34m\u001b[0m\u001b[0;34m\u001b[0m\u001b[0m\n",
      "\u001b[0;32m/media/devender/Samsung_980/Machine_Learning_Energy_Efficiency_Project/energy_efficiency/entity/energy_efficiency_predictor.py\u001b[0m in \u001b[0;36mget_latest_model_path\u001b[0;34m(self)\u001b[0m\n\u001b[1;32m     80\u001b[0m         \u001b[0;32mexcept\u001b[0m \u001b[0mException\u001b[0m \u001b[0;32mas\u001b[0m \u001b[0me\u001b[0m\u001b[0;34m:\u001b[0m\u001b[0;34m\u001b[0m\u001b[0;34m\u001b[0m\u001b[0m\n\u001b[0;32m---> 81\u001b[0;31m             \u001b[0;32mraise\u001b[0m \u001b[0menergy_efficiencyException\u001b[0m\u001b[0;34m(\u001b[0m\u001b[0me\u001b[0m\u001b[0;34m,\u001b[0m \u001b[0msys\u001b[0m\u001b[0;34m)\u001b[0m \u001b[0;32mfrom\u001b[0m \u001b[0me\u001b[0m\u001b[0;34m\u001b[0m\u001b[0;34m\u001b[0m\u001b[0m\n\u001b[0m\u001b[1;32m     82\u001b[0m \u001b[0;34m\u001b[0m\u001b[0m\n",
      "\u001b[0;31menergy_efficiencyException\u001b[0m: \n        Error occured in script: \n        [ /media/devender/Samsung_980/Machine_Learning_Energy_Efficiency_Project/energy_efficiency/entity/energy_efficiency_predictor.py ] at \n        try block line number: [77] and exception block line number: [81] \n        error message: [[Errno 2] No such file or directory: '/media/devender/Samsung_980/Machine_Learning_Energy_Efficiency_Project/saved_models/20221101183256.0']\n        ",
      "\nThe above exception was the direct cause of the following exception:\n",
      "\u001b[0;31menergy_efficiencyException\u001b[0m                Traceback (most recent call last)",
      "\u001b[0;32m/tmp/ipykernel_30938/3674396636.py\u001b[0m in \u001b[0;36m<module>\u001b[0;34m\u001b[0m\n\u001b[0;32m----> 1\u001b[0;31m \u001b[0menergy_efficiency_predictor\u001b[0m\u001b[0;34m.\u001b[0m\u001b[0mpredict\u001b[0m\u001b[0;34m(\u001b[0m\u001b[0mdf\u001b[0m\u001b[0;34m)\u001b[0m\u001b[0;34m\u001b[0m\u001b[0;34m\u001b[0m\u001b[0m\n\u001b[0m",
      "\u001b[0;32m/media/devender/Samsung_980/Machine_Learning_Energy_Efficiency_Project/energy_efficiency/entity/energy_efficiency_predictor.py\u001b[0m in \u001b[0;36mpredict\u001b[0;34m(self, X)\u001b[0m\n\u001b[1;32m     88\u001b[0m             \u001b[0;32mreturn\u001b[0m \u001b[0mheating_load\u001b[0m\u001b[0;34m\u001b[0m\u001b[0;34m\u001b[0m\u001b[0m\n\u001b[1;32m     89\u001b[0m         \u001b[0;32mexcept\u001b[0m \u001b[0mException\u001b[0m \u001b[0;32mas\u001b[0m \u001b[0me\u001b[0m\u001b[0;34m:\u001b[0m\u001b[0;34m\u001b[0m\u001b[0;34m\u001b[0m\u001b[0m\n\u001b[0;32m---> 90\u001b[0;31m             \u001b[0;32mraise\u001b[0m \u001b[0menergy_efficiencyException\u001b[0m\u001b[0;34m(\u001b[0m\u001b[0me\u001b[0m\u001b[0;34m,\u001b[0m \u001b[0msys\u001b[0m\u001b[0;34m)\u001b[0m \u001b[0;32mfrom\u001b[0m \u001b[0me\u001b[0m\u001b[0;34m\u001b[0m\u001b[0;34m\u001b[0m\u001b[0m\n\u001b[0m",
      "\u001b[0;31menergy_efficiencyException\u001b[0m: \n        Error occured in script: \n        [ /media/devender/Samsung_980/Machine_Learning_Energy_Efficiency_Project/energy_efficiency/entity/energy_efficiency_predictor.py ] at \n        try block line number: [85] and exception block line number: [90] \n        error message: [\n        Error occured in script: \n        [ /media/devender/Samsung_980/Machine_Learning_Energy_Efficiency_Project/energy_efficiency/entity/energy_efficiency_predictor.py ] at \n        try block line number: [77] and exception block line number: [81] \n        error message: [[Errno 2] No such file or directory: '/media/devender/Samsung_980/Machine_Learning_Energy_Efficiency_Project/saved_models/20221101183256.0']\n        ]\n        "
     ]
    }
   ],
   "source": [
    "energy_efficiency_predictor.predict(df)"
   ]
  },
  {
   "cell_type": "code",
   "execution_count": null,
   "metadata": {},
   "outputs": [],
   "source": []
  }
 ],
 "metadata": {
  "kernelspec": {
   "display_name": "Python 3.7.13 (conda)",
   "language": "python",
   "name": "python3"
  },
  "language_info": {
   "codemirror_mode": {
    "name": "ipython",
    "version": 3
   },
   "file_extension": ".py",
   "mimetype": "text/x-python",
   "name": "python",
   "nbconvert_exporter": "python",
   "pygments_lexer": "ipython3",
   "version": "3.7.13"
  },
  "orig_nbformat": 4,
  "vscode": {
   "interpreter": {
    "hash": "9d72d7e637601da8b952a2745d1fc3aeaf7bedfcb0d07a57a8048244865ed59a"
   }
  }
 },
 "nbformat": 4,
 "nbformat_minor": 2
}
